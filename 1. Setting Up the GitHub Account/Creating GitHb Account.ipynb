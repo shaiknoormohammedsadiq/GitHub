{
 "cells": [
  {
   "cell_type": "markdown",
   "metadata": {},
   "source": [
    "# Welcome to IQRA Learnings\n",
    "# Noor Mohammed Sadiq Shaik"
   ]
  },
  {
   "cell_type": "markdown",
   "metadata": {},
   "source": [
    "# Setting up the GitHub Account"
   ]
  },
  {
   "cell_type": "markdown",
   "metadata": {},
   "source": [
    "## In this tutorial i will show you how to set account and creat a new GitHub Repositary"
   ]
  },
  {
   "cell_type": "markdown",
   "metadata": {},
   "source": [
    "### * Installing Git (GitHub Software)"
   ]
  },
  {
   "cell_type": "markdown",
   "metadata": {},
   "source": [
    "1. **First download the Git software form your fav broweser and click the link [Click here to Download Git](https://git-scm.com/downloads/)**\n",
    "2. **Select your respective operating system git and download the latest version and click on it to download**\n",
    "3. **After downloading double click to install the software**\n",
    "4. **Click Next, Next, Next and finish by clicking the finish butten**"
   ]
  },
  {
   "cell_type": "markdown",
   "metadata": {},
   "source": [
    "### * Setting up the GitHub Account"
   ]
  },
  {
   "cell_type": "markdown",
   "metadata": {},
   "source": [
    "1. **Open any broweser and go for [Click here to SignUp GitHub Account](https://github.com)**\n",
    "2. **Click conformation link in your E-Mail to get Conformed for the github account**\n",
    "3. **Thats it your GitHub account is ready to use**"
   ]
  }
 ],
 "metadata": {
  "kernelspec": {
   "display_name": "Python 3",
   "language": "python",
   "name": "python3"
  },
  "language_info": {
   "codemirror_mode": {
    "name": "ipython",
    "version": 3
   },
   "file_extension": ".py",
   "mimetype": "text/x-python",
   "name": "python",
   "nbconvert_exporter": "python",
   "pygments_lexer": "ipython3",
   "version": "3.7.6"
  }
 },
 "nbformat": 4,
 "nbformat_minor": 4
}
