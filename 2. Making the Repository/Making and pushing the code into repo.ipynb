{
 "cells": [
  {
   "cell_type": "markdown",
   "metadata": {},
   "source": [
    "# Welcome to IQRA Learnings\n",
    "# Noor Mohammed Sadiq Shaik"
   ]
  },
  {
   "cell_type": "markdown",
   "metadata": {},
   "source": [
    "## In this Tutorial we will see how to create the GitHub Account"
   ]
  },
  {
   "cell_type": "markdown",
   "metadata": {},
   "source": [
    "1. **Go for the code_File location and open git bash here by right_click on the perticular file location folder**\n",
    "2. **We need to generate SSH key for the very first time**\n",
    "3. **Click the command\n",
    "    * **ssh-keygen -t rsa -b 4096 -c \"your.email@gmail.com\"**\n",
    "    * **Where it asks for enter location to save the ssh key file simple hit enter for once**\n",
    "    * **Then it asks for Enter for passphrase (empty for no phrase):. where you need to type a key where you should remember for all repo enteries**\n",
    "    * **Then enter the command ( eval $(ssh-agent-s ) ) and hit enter**\n",
    "    * **then type the run ssh command ( ssh-add ~/.ssh/id_rsa ) and hit enter**\n",
    "    * **in this step you have to copy the public key by typing the command ( clip <~/.ssh/id_rsa.pub )**\n",
    "    * **Go to your broweser open your github Account and click profile and open settings in it**\n",
    "    * **Click on SSH & GPG Keys link and click new SSH Key Give the title as which remains common for all the repo**\n",
    "    * **just click Ctrl+v  in key where your key will be pasted in the key box**\n",
    "    * **Click Add SSH Key**"
   ]
  },
  {
   "cell_type": "markdown",
   "metadata": {},
   "source": [
    "#### Remember the upper steps are to be followed only for one time not torepeat for all the times"
   ]
  },
  {
   "cell_type": "markdown",
   "metadata": {},
   "source": [
    "1. **After Creating Your GitHub Account Successfully**\n",
    "2. **Click on repositories on the top navbar on git account**\n",
    "3. **Click on NEW to create new repository**\n",
    "4. **Give the nsme for the repository and click create repository at the down side**\n",
    "5. **Copy the SSH Link shown in the setup desktop menu**\n",
    "6. **Now go to your local repository and open git-bash here**\n",
    "7. **follow the commands**\n",
    "    * **git init**\n",
    "    * **git add .**\n",
    "    * **git commit -m \"Comment for your repo\"**\n",
    "    * **git remote add origin past_your_copied_link_here**\n",
    "    which you have copied from the SSH link\n",
    "    * **git push originmaster**\n",
    "    * **hit yes if it ask**\n",
    "    * **Enter PassPhrase key: As_You-Set**\n",
    "    * **and wait for finish command**"
   ]
  },
  {
   "cell_type": "markdown",
   "metadata": {},
   "source": [
    "**Go for your repository and refresh once**\n",
    "**Your all the files have been uploaded**"
   ]
  }
 ],
 "metadata": {
  "kernelspec": {
   "display_name": "Python 3",
   "language": "python",
   "name": "python3"
  },
  "language_info": {
   "codemirror_mode": {
    "name": "ipython",
    "version": 3
   },
   "file_extension": ".py",
   "mimetype": "text/x-python",
   "name": "python",
   "nbconvert_exporter": "python",
   "pygments_lexer": "ipython3",
   "version": "3.7.6"
  }
 },
 "nbformat": 4,
 "nbformat_minor": 4
}
